{
 "cells": [
  {
   "cell_type": "code",
   "execution_count": 4,
   "metadata": {},
   "outputs": [
    {
     "data": {
      "text/html": [
       "<div>\n",
       "<style scoped>\n",
       "    .dataframe tbody tr th:only-of-type {\n",
       "        vertical-align: middle;\n",
       "    }\n",
       "\n",
       "    .dataframe tbody tr th {\n",
       "        vertical-align: top;\n",
       "    }\n",
       "\n",
       "    .dataframe thead th {\n",
       "        text-align: right;\n",
       "    }\n",
       "</style>\n",
       "<table border=\"1\" class=\"dataframe\">\n",
       "  <thead>\n",
       "    <tr style=\"text-align: right;\">\n",
       "      <th></th>\n",
       "      <th>cod_pedido</th>\n",
       "      <th>regiao_pais</th>\n",
       "      <th>produto</th>\n",
       "      <th>valor</th>\n",
       "      <th>quantidade</th>\n",
       "      <th>valor_total_bruto</th>\n",
       "      <th>data</th>\n",
       "      <th>estado</th>\n",
       "      <th>formapagto</th>\n",
       "      <th>centro_distribuicao</th>\n",
       "      <th>responsavelpedido</th>\n",
       "      <th>valor_comissao</th>\n",
       "      <th>lucro_liquido</th>\n",
       "      <th>categoriaprod</th>\n",
       "    </tr>\n",
       "  </thead>\n",
       "  <tbody>\n",
       "    <tr>\n",
       "      <th>0</th>\n",
       "      <td>50284</td>\n",
       "      <td>Norte</td>\n",
       "      <td>Biscoito  True Champion 300g</td>\n",
       "      <td>24,64</td>\n",
       "      <td>2</td>\n",
       "      <td>49,28</td>\n",
       "      <td>2020-03-12</td>\n",
       "      <td>Acre</td>\n",
       "      <td>Cartão Crédito</td>\n",
       "      <td>Rapid Pink</td>\n",
       "      <td>Carlos</td>\n",
       "      <td>1,76</td>\n",
       "      <td>26,4</td>\n",
       "      <td>Alimentação</td>\n",
       "    </tr>\n",
       "    <tr>\n",
       "      <th>1</th>\n",
       "      <td>50285</td>\n",
       "      <td>Norte</td>\n",
       "      <td>Biscoito  True Champion 300g</td>\n",
       "      <td>23,52</td>\n",
       "      <td>2</td>\n",
       "      <td>47,04</td>\n",
       "      <td>2020-04-10</td>\n",
       "      <td>Amapá</td>\n",
       "      <td>Cartão Crédito</td>\n",
       "      <td>Rapid Pink</td>\n",
       "      <td>Maria Linda</td>\n",
       "      <td>1,68</td>\n",
       "      <td>25,2</td>\n",
       "      <td>Alimentação</td>\n",
       "    </tr>\n",
       "    <tr>\n",
       "      <th>2</th>\n",
       "      <td>50286</td>\n",
       "      <td>Norte</td>\n",
       "      <td>Biscoito  True Champion 300g</td>\n",
       "      <td>24,64</td>\n",
       "      <td>4</td>\n",
       "      <td>98,56</td>\n",
       "      <td>2020-08-07</td>\n",
       "      <td>Pará</td>\n",
       "      <td>Dinheiro</td>\n",
       "      <td>Rapid Pink</td>\n",
       "      <td>Julia</td>\n",
       "      <td>3,52</td>\n",
       "      <td>52,8</td>\n",
       "      <td>Alimentação</td>\n",
       "    </tr>\n",
       "    <tr>\n",
       "      <th>3</th>\n",
       "      <td>50287</td>\n",
       "      <td>Norte</td>\n",
       "      <td>Biscoito  True Champion 300g</td>\n",
       "      <td>21,28</td>\n",
       "      <td>4</td>\n",
       "      <td>85,12</td>\n",
       "      <td>2020-01-10</td>\n",
       "      <td>Rondônia</td>\n",
       "      <td>Pix</td>\n",
       "      <td>Rapid Pink</td>\n",
       "      <td>Yuri</td>\n",
       "      <td>3,04</td>\n",
       "      <td>45,6</td>\n",
       "      <td>Alimentação</td>\n",
       "    </tr>\n",
       "    <tr>\n",
       "      <th>4</th>\n",
       "      <td>50288</td>\n",
       "      <td>Norte</td>\n",
       "      <td>Biscoito  True Champion 300g</td>\n",
       "      <td>24,64</td>\n",
       "      <td></td>\n",
       "      <td>49,28</td>\n",
       "      <td>2020-04-11</td>\n",
       "      <td>Tocantins</td>\n",
       "      <td>Cartão Crédito</td>\n",
       "      <td>Rapid Pink</td>\n",
       "      <td>Dolores</td>\n",
       "      <td>1,76</td>\n",
       "      <td>26,4</td>\n",
       "      <td>Alimentação</td>\n",
       "    </tr>\n",
       "  </tbody>\n",
       "</table>\n",
       "</div>"
      ],
      "text/plain": [
       "   cod_pedido regiao_pais                       produto  valor quantidade  \\\n",
       "0       50284       Norte  Biscoito  True Champion 300g  24,64          2   \n",
       "1       50285       Norte  Biscoito  True Champion 300g  23,52          2   \n",
       "2       50286       Norte  Biscoito  True Champion 300g  24,64          4   \n",
       "3       50287       Norte  Biscoito  True Champion 300g  21,28          4   \n",
       "4       50288       Norte  Biscoito  True Champion 300g  24,64              \n",
       "\n",
       "  valor_total_bruto       data     estado      formapagto centro_distribuicao  \\\n",
       "0             49,28 2020-03-12       Acre  Cartão Crédito          Rapid Pink   \n",
       "1             47,04 2020-04-10      Amapá  Cartão Crédito          Rapid Pink   \n",
       "2             98,56 2020-08-07       Pará        Dinheiro          Rapid Pink   \n",
       "3             85,12 2020-01-10   Rondônia             Pix          Rapid Pink   \n",
       "4             49,28 2020-04-11  Tocantins  Cartão Crédito          Rapid Pink   \n",
       "\n",
       "  responsavelpedido valor_comissao lucro_liquido categoriaprod  \n",
       "0            Carlos           1,76          26,4   Alimentação  \n",
       "1       Maria Linda           1,68          25,2   Alimentação  \n",
       "2             Julia           3,52          52,8   Alimentação  \n",
       "3              Yuri           3,04          45,6   Alimentação  \n",
       "4           Dolores           1,76          26,4   Alimentação  "
      ]
     },
     "execution_count": 4,
     "metadata": {},
     "output_type": "execute_result"
    }
   ],
   "source": [
    "import pandas as pd\n",
    "\n",
    "# Carregar o arquivo Excel\n",
    "caminho_arquivo = r\"C:\\Users\\luish\\OneDrive\\Área de Trabalho\\FIAP\\FASE 05\\ITEM 1.3\\vendas_linha_petshop_2020_2024.xlsx\"\n",
    "df = pd.read_excel(caminho_arquivo)\n",
    "\n",
    "# Visualizar as primeiras linhas do dataframe\n",
    "df.head()\n"
   ]
  },
  {
   "cell_type": "code",
   "execution_count": 5,
   "metadata": {},
   "outputs": [
    {
     "data": {
      "text/plain": [
       "['valor', 'quantidade', 'valor_total_bruto', 'valor_comissao', 'lucro_liquido']"
      ]
     },
     "execution_count": 5,
     "metadata": {},
     "output_type": "execute_result"
    }
   ],
   "source": [
    "# Lista de colunas relevantes\n",
    "colunas_relevantes = ['valor', 'quantidade', 'valor_total_bruto', 'valor_comissao', 'lucro_liquido']\n",
    "\n",
    "# Verificar se as colunas existem no DataFrame\n",
    "colunas_existentes = [coluna for coluna in colunas_relevantes if coluna in df.columns]\n",
    "colunas_existentes\n"
   ]
  },
  {
   "cell_type": "code",
   "execution_count": 6,
   "metadata": {},
   "outputs": [
    {
     "name": "stdout",
     "output_type": "stream",
     "text": [
      "Tipos de dados antes da conversão:\n",
      "valor                object\n",
      "quantidade           object\n",
      "valor_total_bruto    object\n",
      "valor_comissao       object\n",
      "lucro_liquido        object\n",
      "dtype: object\n",
      "Tipos de dados após a conversão:\n",
      "valor                float64\n",
      "quantidade           float64\n",
      "valor_total_bruto    float64\n",
      "valor_comissao       float64\n",
      "lucro_liquido        float64\n",
      "dtype: object\n"
     ]
    }
   ],
   "source": [
    "# Verificar o tipo de dado das colunas relevantes\n",
    "tipos_colunas = df[colunas_existentes].dtypes\n",
    "print(\"Tipos de dados antes da conversão:\")\n",
    "print(tipos_colunas)\n",
    "\n",
    "# Converter colunas para tipo numérico (se necessário)\n",
    "df[colunas_existentes] = df[colunas_existentes].apply(pd.to_numeric, errors='coerce')\n",
    "\n",
    "# Verificar novamente os tipos de dados após a conversão\n",
    "tipos_colunas_convertidos = df[colunas_existentes].dtypes\n",
    "print(\"Tipos de dados após a conversão:\")\n",
    "print(tipos_colunas_convertidos)\n"
   ]
  },
  {
   "cell_type": "code",
   "execution_count": 7,
   "metadata": {},
   "outputs": [
    {
     "data": {
      "text/plain": [
       "{'valor': 13558,\n",
       " 'quantidade': 4700,\n",
       " 'valor_total_bruto': 10345,\n",
       " 'valor_comissao': 347,\n",
       " 'lucro_liquido': 2799}"
      ]
     },
     "execution_count": 7,
     "metadata": {},
     "output_type": "execute_result"
    }
   ],
   "source": [
    "# Função para calcular outliers usando IQR\n",
    "def identificar_outliers_iqr(df, coluna):\n",
    "    Q1 = df[coluna].quantile(0.25)\n",
    "    Q3 = df[coluna].quantile(0.75)\n",
    "    IQR = Q3 - Q1\n",
    "    limite_inferior = Q1 - 1.5 * IQR\n",
    "    limite_superior = Q3 + 1.5 * IQR\n",
    "    outliers = df[(df[coluna] < limite_inferior) | (df[coluna] > limite_superior)]\n",
    "    return outliers.shape[0]\n",
    "\n",
    "# Contar o número de outliers em cada coluna relevante\n",
    "outliers_contagem = {coluna: identificar_outliers_iqr(df, coluna) for coluna in colunas_existentes}\n",
    "outliers_contagem\n"
   ]
  },
  {
   "cell_type": "code",
   "execution_count": 8,
   "metadata": {},
   "outputs": [
    {
     "data": {
      "image/png": "[encoded data removed]",
      "text/plain": [
       "<Figure size 1000x600 with 1 Axes>"
      ]
     },
     "metadata": {},
     "output_type": "display_data"
    }
   ],
   "source": [
    "import matplotlib.pyplot as plt\n",
    "\n",
    "# Dados para o gráfico\n",
    "colunas = list(outliers_contagem.keys())\n",
    "quantidade_outliers = list(outliers_contagem.values())\n",
    "\n",
    "# Criar o gráfico de barras\n",
    "plt.figure(figsize=(10, 6))\n",
    "plt.bar(colunas, quantidade_outliers, color='skyblue')\n",
    "plt.xlabel('Colunas')\n",
    "plt.ylabel('Quantidade de Outliers')\n",
    "plt.title('Quantidade de Outliers por Coluna')\n",
    "plt.xticks(rotation=45)\n",
    "plt.show()\n"
   ]
  },
  {
   "cell_type": "markdown",
   "metadata": {},
   "source": [
    "1. Identificação das Colunas Relevantes\n",
    "Primeiramente, selecionamos as colunas relevantes do DataFrame que contêm dados numéricos e que são de interesse para a análise de outliers. Neste caso, as colunas selecionadas foram: valor, quantidade, valor_total_bruto, valor_comissao, e lucro_liquido.\n",
    "2. Verificação e Conversão para Tipo Numérico\n",
    "Antes de proceder com a identificação de outliers, verificamos se essas colunas estavam no tipo de dado correto (numérico). Caso as colunas estivessem em outro tipo (como object), realizamos a conversão para tipo numérico usando a função pd.to_numeric(). Essa conversão é essencial para garantir que as operações matemáticas necessárias para identificar outliers possam ser realizadas corretamente.\n",
    "3. Cálculo dos Outliers Usando IQR\n",
    "Utilizamos o Interquartile Range (IQR), que é uma medida estatística da dispersão dos dados, para identificar outliers:\n",
    "Q1 (Primeiro Quartil): O valor que delimita os 25% menores valores do conjunto de dados.\n",
    "Q3 (Terceiro Quartil): O valor que delimita os 25% maiores valores do conjunto de dados.\n",
    "IQR: A diferença entre Q3 e Q1, representando a amplitude interquartil.\n",
    "Limites Inferior e Superior: Calculamos os limites inferior (Q1 - 1.5 * IQR) e superior (Q3 + 1.5 * IQR). Qualquer valor fora desse intervalo foi considerado um outlier.\n",
    "4. Contagem de Outliers\n",
    "Para cada coluna relevante, calculamos quantos valores estavam abaixo do limite inferior ou acima do limite superior, e essa contagem foi armazenada em um dicionário.\n",
    "5. Visualização Gráfica\n",
    "Para facilitar a interpretação dos resultados, criamos um gráfico de barras que exibe a quantidade de outliers em cada coluna relevante. Esse gráfico permite uma visualização clara da distribuição dos outliers e ajuda a identificar rapidamente quais colunas têm maior incidência de valores atípicos.\n",
    "Conclusão\n",
    "A estratégia baseada no IQR é eficaz porque é menos influenciada por outliers do que outras medidas, como a média e o desvio padrão. Isso torna o IQR uma ferramenta confiável para detectar outliers em conjuntos de dados, especialmente quando há a possibilidade de valores extremos influenciar os resultados.\n",
    "Essa abordagem garantiu uma análise sistemática e robusta dos dados, proporcionando uma visão clara sobre a presença de outliers nas colunas numéricas do dataset."
   ]
  }
 ],
 "metadata": {
  "kernelspec": {
   "display_name": "base",
   "language": "python",
   "name": "python3"
  },
  "language_info": {
   "codemirror_mode": {
    "name": "ipython",
    "version": 3
   },
   "file_extension": ".py",
   "mimetype": "text/x-python",
   "name": "python",
   "nbconvert_exporter": "python",
   "pygments_lexer": "ipython3",
   "version": "3.9.13"
  }
 },
 "nbformat": 4,
 "nbformat_minor": 2
}
